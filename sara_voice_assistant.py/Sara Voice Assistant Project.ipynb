{
 "cells": [
  {
   "cell_type": "code",
   "execution_count": null,
   "id": "63f61ee5-dd7f-4f5c-8d2b-3e51ddd44447",
   "metadata": {},
   "outputs": [],
   "source": [
    "                                                #Custom Voice Recognition - SARA"
   ]
  },
  {
   "cell_type": "code",
   "execution_count": null,
   "id": "fce094d3-3fbb-4cf3-80db-38029774bfb3",
   "metadata": {},
   "outputs": [],
   "source": [
    "# Import libraries\n",
    "import speech_recognition as sr\n",
    "import pyttsx3\n",
    "import pywhatkit\n",
    "import datetime\n",
    "import wikipedia\n",
    "import pyjokes\n",
    "import webbrowser\n"
   ]
  },
  {
   "cell_type": "code",
   "execution_count": null,
   "id": "a1f30135-bb0a-4880-9a9f-5e95a6d50f0f",
   "metadata": {},
   "outputs": [],
   "source": [
    "# Initialize recognizer and text-to-speech engine\n",
    "listener = sr.Recognizer()\n",
    "engine = pyttsx3.init()\n",
    "engine.setProperty('rate', 150)  # Speed of speech\n",
    "\n",
    "def talk(text):\n",
    "    \"\"\"Convert text to speech.\"\"\"\n",
    "    engine.say(text)\n",
    "    engine.runAndWait()"
   ]
  },
  {
   "cell_type": "code",
   "execution_count": null,
   "id": "cbae118b-93ee-42de-bd8d-a41bcf7a48db",
   "metadata": {},
   "outputs": [],
   "source": [
    "def take_command():\n",
    "    \"\"\"Listen to the user's voice and return as text.\"\"\"\n",
    "    try:\n",
    "        with sr.Microphone() as source:\n",
    "            print(\"🎙 Listening...\")\n",
    "            listener.adjust_for_ambient_noise(source)  # Reduces background noise\n",
    "            voice = listener.listen(source)\n",
    "            command = listener.recognize_google(voice)\n",
    "            command = command.lower()\n",
    "            if 'sara' in command:\n",
    "                command = command.replace('sara', '').strip()\n",
    "            print(f\"✅ Command: {command}\")\n",
    "            return command\n",
    "    except sr.UnknownValueError:\n",
    "        talk(\"Sorry, I didn't catch that. Please repeat.\")\n",
    "        return \"\"\n",
    "    except Exception as e:\n",
    "        print(\"❌ Error:\", e)\n",
    "        return \"\""
   ]
  },
  {
   "cell_type": "code",
   "execution_count": null,
   "id": "1b358e43-1664-4544-989c-61a706ed77bf",
   "metadata": {},
   "outputs": [],
   "source": [
    "def run_sara():\n",
    "    \"\"\"Main function to process commands.\"\"\"\n",
    "    command = take_command()\n",
    "\n",
    "    if 'play' in command:\n",
    "        song = command.replace('play', '').strip()\n",
    "        talk(f\"Playing {song}\")\n",
    "        pywhatkit.playonyt(song)\n",
    "\n",
    "    elif 'time' in command:\n",
    "        time_now = datetime.datetime.now().strftime('%I:%M %p')\n",
    "        talk(f\"The time is {time_now}\")\n",
    "        print(f\"🕒 {time_now}\")\n",
    "\n",
    "    elif 'date' in command:\n",
    "        date_today = datetime.datetime.now().strftime('%B %d, %Y')\n",
    "        talk(f\"Today's date is {date_today}\")\n",
    "        print(f\"📅 {date_today}\")\n",
    "\n",
    "    elif 'who is' in command or 'what is' in command:\n",
    "        person = command.replace('who is', '').replace('what is', '').strip()\n",
    "        info = wikipedia.summary(person, sentences=1)\n",
    "        talk(info)\n",
    "        print(info)\n",
    "\n",
    "    elif 'open google' in command:\n",
    "        talk(\"Opening Google\")\n",
    "        webbrowser.open(\"https://google.com\")\n",
    "\n",
    "    elif 'open youtube' in command:\n",
    "        talk(\"Opening YouTube\")\n",
    "        webbrowser.open(\"https://youtube.com\")\n",
    "\n",
    "    elif 'joke' in command:\n",
    "        joke = pyjokes.get_joke()\n",
    "        talk(joke)\n",
    "        print(f\"😂 {joke}\")\n",
    "\n",
    "    elif 'stop' in command or 'exit' in command:\n",
    "        talk(\"Goodbye! Have a great day.\")\n",
    "        return False\n",
    "\n",
    "    else:\n",
    "        talk(\"Sorry, I can't help with that yet.\")\n",
    "\n",
    "    return True"
   ]
  },
  {
   "cell_type": "code",
   "execution_count": null,
   "id": "841bb810-b6b8-47c7-95f0-b21ff2bee664",
   "metadata": {},
   "outputs": [],
   "source": [
    "# 🔄 Keep Sara running until you say 'stop'\n",
    "talk(\"Hello, I am Sara. How can I help you today?\")\n",
    "while True:\n",
    "    if not run_sara():\n",
    "        break"
   ]
  },
  {
   "cell_type": "code",
   "execution_count": null,
   "id": "48917695-81c2-48a7-89ed-b16501aa6836",
   "metadata": {},
   "outputs": [],
   "source": []
  }
 ],
 "metadata": {
  "kernelspec": {
   "display_name": "Python 3 (ipykernel)",
   "language": "python",
   "name": "python3"
  },
  "language_info": {
   "codemirror_mode": {
    "name": "ipython",
    "version": 3
   },
   "file_extension": ".py",
   "mimetype": "text/x-python",
   "name": "python",
   "nbconvert_exporter": "python",
   "pygments_lexer": "ipython3",
   "version": "3.13.5"
  }
 },
 "nbformat": 4,
 "nbformat_minor": 5
}
